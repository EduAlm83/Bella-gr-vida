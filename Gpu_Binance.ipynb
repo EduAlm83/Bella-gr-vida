{
  "nbformat": 4,
  "nbformat_minor": 0,
  "metadata": {
    "colab": {
      "name": "Gpu_Binance.ipynb",
      "provenance": [],
      "collapsed_sections": [],
      "include_colab_link": true
    },
    "kernelspec": {
      "name": "python3",
      "display_name": "Python 3"
    },
    "language_info": {
      "name": "python"
    },
    "accelerator": "GPU"
  },
  "cells": [
    {
      "cell_type": "markdown",
      "metadata": {
        "id": "view-in-github",
        "colab_type": "text"
      },
      "source": [
        "<a href=\"https://colab.research.google.com/github/EduAlm83/Bella-gr-vida/blob/main/Gpu_Binance.ipynb\" target=\"_parent\"><img src=\"https://colab.research.google.com/assets/colab-badge.svg\" alt=\"Open In Colab\"/></a>"
      ]
    },
    {
      "cell_type": "markdown",
      "metadata": {
        "id": "wWhnI2bYadCZ"
      },
      "source": [
        "\n",
        "  \n",
        "# &#x1F5A5; **Minerando com a pool da binance** &#x1F5A5;\n",
        "\n",
        "\n",
        "&#x27A1; **Se inscreva no canal pra fortalecer a amizade!** &#x1F44D;\n",
        "\n",
        "&#x27A1; https://www.youtube.com/channel/UCS_umtFzFSSfNJRPvECmceA &#x1F468;&#x200D;&#x1F4BB;\n",
        "\n"
      ]
    },
    {
      "cell_type": "code",
      "metadata": {
        "id": "VC4D7vArdX5R",
        "cellView": "form"
      },
      "source": [
        "#@title **Verificação de GPU**\n",
        "#@markdown Execute para verificar a placa de vídeo!\n",
        "!setterm -foreground blue\n",
        "!nvidia-smi"
      ],
      "execution_count": null,
      "outputs": []
    },
    {
      "cell_type": "code",
      "metadata": {
        "id": "1pcYBk1xd2Cl",
        "cellView": "form"
      },
      "source": [
        "#@title **Script de criação de usuário**\n",
        "!setterm -foreground blue\n",
        "import os,sys,time\n",
        " \n",
        "username = \"user\" #@param {type:\"string\"}\n",
        "password = \"root\" #@param {type:\"string\"}\n",
        "\n",
        "print('$$\\       $$$$$$\\  $$\\   $$\\   $$\\         $$$$$$$\\   $$$$$$\\ $$$$$$$$\\ ')\n",
        "print('$$ |     $$$ __$$\\ $$ | $$  |$$$$ |        $$  __$$\\ $$$ __$$\\\\__ $$ __|')\n",
        "print('$$ |     $$$$\\ $$ |$$ |$$  / \\_$$ |        $$ |  $$ |$$$$\\ $$ |  $$ |   ')\n",
        "print('$$ |     $$\\$$\\$$ |$$$$$  /    $$ |        $$$$$$$\\ |$$\\$$\\$$ |  $$ |   ')\n",
        "print('$$ |     $$ \\$$$$ |$$  $$<     $$ |        $$  __$$\\ $$ \\$$$$ |  $$ |   ')\n",
        "print('$$ |     $$ |\\$$$ |$$ |\\$$\\    $$ |        $$ |  $$ |$$ |\\$$$ |  $$ |   ')\n",
        "print('$$$$$$$$\\\\$$$$$$   /$$ | \\$$\\ $$$$$$\\       $$$$$$$  |\\$$$$$$ /   $$ |   ')\n",
        "print('\\________|\\______/ \\__|  \\__|\\______|      \\_______/  \\______/   \\__|   ') \n",
        "print(\"Executando código de criação...\")\n",
        " \n",
        "# Creation of user\n",
        "os.system(f\"useradd -m {username}\")\n",
        " \n",
        "# Add user to sudo group\n",
        "os.system(f\"adduser {username} sudo\")\n",
        "    \n",
        "# Set password of user to 'root'\n",
        "os.system(f\"echo '{username}:{password}' | sudo chpasswd\")\n",
        " \n",
        "# Change default shell from sh to bash\n",
        "os.system(\"sed -i 's/\\/bin\\/sh/\\/bin\\/bash/g' /etc/passwd\")\n",
        "\n",
        "for i in range(101):\n",
        "        time.sleep(0.1)\n",
        "        sys.stdout.write(\"\\rCarregando script: %d%%\" % i)\n",
        "        while (i > 101):\n",
        "            os.system('cls')\n",
        "        sys.stdout.flush()\n",
        "print(\"\\nUsuario criado com sucesso!\")\n",
        "print(\"Execute o proximo passo.\")"
      ],
      "execution_count": null,
      "outputs": []
    },
    {
      "cell_type": "code",
      "metadata": {
        "id": "SOtDyg-FgTh8",
        "cellView": "form"
      },
      "source": [
        "#@title **Executando script de instalação de VPS**\n",
        "#@markdown  O tempo da instalação é de 4/5 minutos\n",
        "!setterm -foreground blue\n",
        "import os\n",
        "import subprocess\n",
        " \n",
        "#@markdown  Acesse o site http://remotedesktop.google.com/headless e Copie o comando para autenticar vps e cole no CRP \n",
        "CRP = \"\" #@param {type:\"string\"}\n",
        " \n",
        "#@markdown O pin abaixo lhe dará acesso ao Google Remoto!\n",
        "Pin = 123456 #@param {type: \"integer\"}\n",
        " \n",
        " \n",
        "class CRD:\n",
        "    def __init__(self):\n",
        "        os.system(\"apt update\")\n",
        "        self.installCRD()\n",
        "        self.installDesktopEnvironment()\n",
        "        self.installGoogleChorme()\n",
        "        self.finish()\n",
        " \n",
        "    @staticmethod\n",
        "    def installCRD():\n",
        "        print(\"Instalando Chrome Remote Desktop\")\n",
        "        subprocess.run(['wget', 'https://dl.google.com/linux/direct/chrome-remote-desktop_current_amd64.deb'], stdout=subprocess.PIPE)\n",
        "        subprocess.run(['dpkg', '--install', 'chrome-remote-desktop_current_amd64.deb'], stdout=subprocess.PIPE)\n",
        "        subprocess.run(['apt', 'install', '--assume-yes', '--fix-broken'], stdout=subprocess.PIPE)\n",
        " \n",
        "    @staticmethod\n",
        "    def installDesktopEnvironment():\n",
        "        print(\"Instalando Desktop Environment\")\n",
        "        os.system(\"export DEBIAN_FRONTEND=noninteractive\")\n",
        "        os.system(\"apt install --assume-yes xfce4 desktop-base xfce4-terminal\")\n",
        "        os.system(\"bash -c 'echo \\\"exec /etc/X11/Xsession /usr/bin/xfce4-session\\\" > /etc/chrome-remote-desktop-session'\")\n",
        "        os.system(\"apt remove --assume-yes gnome-terminal\")\n",
        "        os.system(\"apt install --assume-yes xscreensaver\")\n",
        "        os.system(\"systemctl disable lightdm.service\")\n",
        " \n",
        "    @staticmethod\n",
        "    def installGoogleChorme():\n",
        "        print(\"Instalando Google Chrome\")\n",
        "        subprocess.run([\"wget\", \"https://dl.google.com/linux/direct/google-chrome-stable_current_amd64.deb\"], stdout=subprocess.PIPE)\n",
        "        subprocess.run([\"dpkg\", \"--install\", \"google-chrome-stable_current_amd64.deb\"], stdout=subprocess.PIPE)\n",
        "        subprocess.run(['apt', 'install', '--assume-yes', '--fix-broken'], stdout=subprocess.PIPE)\n",
        " \n",
        "    @staticmethod\n",
        "    def finish():\n",
        "        print(\"Finalizando\")\n",
        "        os.system(f\"adduser {username} chrome-remote-desktop\")\n",
        "        command = f\"{CRP} --pin={Pin}\"\n",
        "        os.system(f\"su - {username} -c '{command}'\")\n",
        "        os.system(\"service chrome-remote-desktop start\")\n",
        "        print(\"VPS criada com sucesso.\")\n",
        " \n",
        " \n",
        "try:\n",
        "    if username:\n",
        "        if CRP == \"\":\n",
        "            print(\"Por favor, insira o código de autenticação do link fornecido\")\n",
        "        elif len(str(Pin)) < 6:\n",
        "            print(\"Insira um PIN com mais ou igual a 6 dígitos\")\n",
        "        else:\n",
        "            CRD()\n",
        "except NameError as e:\n",
        "    print(\"username não encontrado!\")\n",
        "    print(\"Execute o script de criação de usuário\")"
      ],
      "execution_count": null,
      "outputs": []
    },
    {
      "cell_type": "code",
      "metadata": {
        "id": "-mVNI_PPjB-a",
        "cellView": "form"
      },
      "source": [
        "#@title **Ativação das 12 Horas** \n",
        "import time\n",
        "!setterm -foreground blue\n",
        "!nvidia-smi\n",
        "ativar = True #@param {type:'boolean'}\n",
        "!\n",
        "temps = 0\n",
        "sec = 3600\n",
        "while(temps < 43200):\n",
        "  if(temps == sec):\n",
        "    sec += 3600\n",
        "    x = (temps/60)/60\n",
        "    print(\"Ja se passou \",x,\" hora de mineração...\")\n",
        "  time.sleep(1)\n",
        "  temps += 1"
      ],
      "execution_count": null,
      "outputs": []
    }
  ]
}